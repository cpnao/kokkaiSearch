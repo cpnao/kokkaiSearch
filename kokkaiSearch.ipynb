{
 "cells": [
  {
   "cell_type": "markdown",
   "metadata": {},
   "source": [
    "# 国会会議録スクリプト3本\n",
    "\n",
    "このファイルには、\n",
    "\n",
    " - 国会会議録の検索結果を保存するスクリプト\n",
    " - 保存した結果から検索結果の件数を取得するスクリプト\n",
    " - 検索件数をグラフ化するスクリプト\n",
    "\n",
    "の3本が含まれています。それぞれ必要に応じてお使いください。"
   ]
  },
  {
   "cell_type": "markdown",
   "metadata": {},
   "source": [
    "***\n",
    "## （1）国会会議録の検索結果を取得するスクリプト\n",
    "\n",
    "- 国会会議録の検索結果を各年ごとにテキストファイルに保存するスクリプトです。\n",
    "- 事前に以下を指定してください。\n",
    "  - ファイルの保存先ディレクトリ\n",
    "  - 保存ファイル名の先頭（仮に「hogehoge」と指定した場合、「hogehoge_1947」のように対象年が後についたファイル名となります）\n",
    "  - 検索キーワードと検索対象期間（年次）"
   ]
  },
  {
   "cell_type": "code",
   "execution_count": 5,
   "metadata": {},
   "outputs": [],
   "source": [
    "import requests\n",
    "import csv\n",
    "import pandas as pd\n",
    "import matplotlib.pyplot as plt\n",
    "from bs4 import BeautifulSoup\n",
    "%matplotlib inline\n",
    "\n",
    "#ファイルの保存先ディレクトリを指定\n",
    "FILE_PATH = 'C:/Users/hoge/Desktop/G_kensyu/'\n",
    "#保存ファイル名の先頭を指定\n",
    "FILE_NAME = 'G_kensyu'\n",
    "\n",
    "def kokkaiSearch(keyword, start, end):\n",
    "    for i in range(start, end+1):\n",
    "        url = 'http://kokkai.ndl.go.jp/api/speech?maximumRecords%3D100%26any%3D' + keyword + '%26from%3D' + str(i) +'-01-01%26until%3D' + str(i) + '-12-31' \n",
    "        req = requests.get(url)\n",
    "        FILE_PATH2 = FILE_PATH + FILE_NAME + '_' + str(i) + '.txt'\n",
    "        fw = open(FILE_PATH2, 'w', encoding='utf-8-sig')\n",
    "        fw.write(req.text)\n",
    "        fw.close()\n",
    "        with open(FILE_PATH2, 'r', encoding='utf-8-sig') as fr:\n",
    "            soup = BeautifulSoup(fr, 'html')\n",
    "            nor = int(soup.find('numberofrecords').string)\n",
    "            fr.close()\n",
    "        count = 101\n",
    "        while nor > 0:\n",
    "            with open(FILE_PATH2, 'a', encoding='utf-8-sig') as fa:\n",
    "                url = 'http://kokkai.ndl.go.jp/api/speech?startRecord%3D' + str(count) + '%26maximumRecords%3D100%26any%3D' + keyword + '%26from%3D' + str(i) + '-01-01%26until%3D' + str(i) + '-12-31'\n",
    "                req = requests.get(url)\n",
    "                fa.write(req.text)\n",
    "                nor = nor - 100\n",
    "                count += 100\n",
    "                \n",
    "\n",
    "#検索キーワードと検索対象期間（年次）を指定\n",
    "kokkaiSearch('外国人技能研修', 1947, 2020)"
   ]
  },
  {
   "cell_type": "markdown",
   "metadata": {},
   "source": [
    "## （2）保存した会議録群からキーワードの登場件数を抜き出すスクリプト\n",
    "- （1）で取得した会議録群からキーワードの登場件数を抜き出し、CSVファイルに保存するスクリプトです。グラフ化の前段としてこの作業が必要になります。\n",
    "- 事前に以下を指定してください。\n",
    "  - 会議録のテキストファイルがあるディレクトリ\n",
    "  - 会議録ファイル名の先頭（仮に「hogehoge_1947.txt」というファイル名だった場合、「hogehoge」の部分が先頭にあたります）\n",
    "  - CSVファイルの保存先ディレクトリ"
   ]
  },
  {
   "cell_type": "code",
   "execution_count": 10,
   "metadata": {},
   "outputs": [],
   "source": [
    "import csv\n",
    "import pandas as pd\n",
    "from bs4 import BeautifulSoup\n",
    "\n",
    "#会議録のテキストファイルがあるディレクトリを指定\n",
    "FILE_PATH = 'C:/Users/kaori/Desktop/G_kensyu/'\n",
    "#上記会議録のファイル名先頭（対象年部分をのぞく）を指定\n",
    "FILE_NAME = 'G_kensyu_'\n",
    "\n",
    "FILE_PATH_NAME = FILE_PATH + FILE_NAME\n",
    "\n",
    "#CSVファイルの保存ディレクトリを指定\n",
    "FILE_SAVE = 'C:/Users/kaori/Desktop/'\n",
    "FILE_PATH_SAVE = FILE_SAVE + FILE_NAME + 'result.csv'\n",
    "fw = csv.writer(open(FILE_PATH_SAVE, 'w', encoding='utf-8-sig', newline='\\n'),delimiter=',')\n",
    "\n",
    "temp = {}\n",
    "\n",
    "def Kokkai_csv(PATH, start, end):\n",
    "    for i in range(start, end+1):\n",
    "        with open(PATH + str(i) +'.txt', 'r', encoding='utf-8-sig') as fr:\n",
    "            soup = BeautifulSoup(fr, 'lxml')\n",
    "            nor = soup.find('numberofrecords').string\n",
    "            temp[i] = nor\n",
    "\n",
    "    fw.writerow(['year', 'records'])\n",
    "\n",
    "    for i in range(start, end+1):\n",
    "        fw.writerow([i, temp[i]])\n",
    "\n",
    "Kokkai_csv(FILE_PATH_NAME, 1947, 2020)"
   ]
  },
  {
   "cell_type": "markdown",
   "metadata": {},
   "source": [
    "## （3）キーワード登場件数の折れ線グラフを描くスクリプト\n",
    "（2）で作成したキーワード登場件数の年次推移をもとに折れ線グラフを描くスクリプトです。\n",
    "- 事前に以下を指定してください。\n",
    "  - キーワード登場件数のCSVファイルがあるディレクトリ"
   ]
  },
  {
   "cell_type": "code",
   "execution_count": 12,
   "metadata": {},
   "outputs": [
    {
     "data": {
      "text/plain": [
       "<AxesSubplot:xlabel='year'>"
      ]
     },
     "execution_count": 12,
     "metadata": {},
     "output_type": "execute_result"
    },
    {
     "data": {
      "image/png": "[encoded data removed]",
      "text/plain": [
       "<Figure size 432x288 with 1 Axes>"
      ]
     },
     "metadata": {
      "needs_background": "light"
     },
     "output_type": "display_data"
    }
   ],
   "source": [
    "import matplotlib.pyplot as plt\n",
    "%matplotlib inline\n",
    "\n",
    "#（２）で作成したCSVファイルのパスを指定\n",
    "FILE_PATH_SAVE = 'C:/Users/hoge/Desktop/G_kensyu_result.csv'\n",
    "\n",
    "s = pd.read_csv(FILE_PATH_SAVE, encoding='utf-8-sig')\n",
    "s.plot(\n",
    "    kind='line',\n",
    "    x='year',\n",
    "    y='records'\n",
    ")"
   ]
  },
  {
   "cell_type": "code",
   "execution_count": null,
   "metadata": {},
   "outputs": [],
   "source": []
  }
 ],
 "metadata": {
  "kernelspec": {
   "display_name": "Python 3",
   "language": "python",
   "name": "python3"
  },
  "language_info": {
   "codemirror_mode": {
    "name": "ipython",
    "version": 3
   },
   "file_extension": ".py",
   "mimetype": "text/x-python",
   "name": "python",
   "nbconvert_exporter": "python",
   "pygments_lexer": "ipython3",
   "version": "3.8.5"
  }
 },
 "nbformat": 4,
 "nbformat_minor": 4
}
